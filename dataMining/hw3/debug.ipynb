{
 "cells": [
  {
   "cell_type": "code",
   "execution_count": 1,
   "metadata": {},
   "outputs": [],
   "source": [
    "import numpy as np\n",
    "\n",
    "from numba import jit\n"
   ]
  },
  {
   "cell_type": "code",
   "execution_count": 2,
   "metadata": {},
   "outputs": [],
   "source": [
    "def load_graph_data(file_path):\n",
    "    with open(file_path , 'r') as f:\n",
    "        data = f.read()\n",
    "\n",
    "    data = [  i.split(',') for i in  data.split('\\n')]\n",
    "\n",
    "    print(f\"there's {len(data)} datas\")\n",
    "    return data"
   ]
  },
  {
   "cell_type": "code",
   "execution_count": 3,
   "metadata": {},
   "outputs": [],
   "source": [
    "def load_IBmdata(file_path):\n",
    "    \n",
    "    with open(file_path , 'r') as f:\n",
    "        data = f.read()\n",
    "\n",
    "    data = [  i.split()[-2:] for i in  data.split('\\n')]\n",
    "\n",
    "    print(f\"there's {len(data)} datas\")\n",
    "\n",
    "    return data"
   ]
  },
  {
   "cell_type": "code",
   "execution_count": 10,
   "metadata": {},
   "outputs": [],
   "source": [
    "class Graph():\n",
    "    def __init__(self , graph_data:list ) -> None:\n",
    "\n",
    "        # init auth and hub matrix , index\n",
    "        self.init_graph(graph_data)\n",
    "\n",
    "    def init_graph(self , graph_data:list)->None:\n",
    "\n",
    "        self.uni_nodes = set( [int(item) for sublist in graph_data for item in sublist])\n",
    "        self.uni_nodes = sorted(list(self.uni_nodes) , key=lambda x:int(x) )\n",
    "        self.n = len(self.uni_nodes)\n",
    "\n",
    "        # create idx in matrix for every node\n",
    "        self.node_to_idx = {  int(n):int(idx) for idx,n in  enumerate(self.uni_nodes)  }\n",
    "        self.idx_to_node = {  idx:n for n,idx in self.node_to_idx.items() }\n",
    "\n",
    "        self.hub_matrix = np.zeros([self.n,self.n]) \n",
    "\n",
    "        for a_node , b_node in graph_data:\n",
    "            a_idx = self.node_to_idx[int(a_node)]\n",
    "            b_idx = self.node_to_idx[int(b_node)]\n",
    "            self.hub_matrix[a_idx][b_idx] = 1 \n",
    "\n",
    "        self.auth_matrix = np.transpose(self.hub_matrix)\n",
    "        \n",
    "        self.out_neighbors = { i:np.nonzero(arr)[0] for i,arr in enumerate(self.hub_matrix)  }\n",
    "        self.in_neighbors = { i:np.nonzero(arr)[0] for i,arr in enumerate(self.auth_matrix)  }\n",
    "    \n",
    "    def hits_algorithm(self , iter = 100):\n",
    "        \n",
    "        hub_score = np.ones(self.n)\n",
    "        auth_score = np.ones(self.n)\n",
    "\n",
    "        for _ in range(iter):\n",
    "\n",
    "            # new hub and auth score\n",
    "            new_auth_score =  np.zeros( self.n )\n",
    "            new_hub_score =  np.zeros( self.n )\n",
    "\n",
    "            # auth update and hub update\n",
    "            for i in range(self.n):\n",
    "                new_auth_score[i]  = np.sum( hub_score[ self.in_neighbors[i] ] )\n",
    "                new_hub_score[i] = np.sum( auth_score[ self.out_neighbors[i] ] )\n",
    "        \n",
    "        # norm and update\n",
    "        auth_score =  new_auth_score / new_auth_score.sum()\n",
    "        hub_score = new_hub_score / new_hub_score.sum()\n",
    "\n",
    "        return hub_score , auth_score\n",
    "    \n",
    "    def pagerank_algorithm(self,iter=100 , d = 0.5):\n",
    "        \n",
    "        page_rank = np.ones( self.n ) / self.n\n",
    "\n",
    "        for _ in range(iter):\n",
    "            new_page_rank = np.zeros_like(page_rank)\n",
    "            for i in range(self.n):\n",
    "                # for every node points to me , update page_rank score as sum of (old_page[ni]) / (ni out links)\n",
    "                for n in self.in_neighbors[i]:\n",
    "                    new_page_rank[i] +=  d/self.n + (1-d) * (page_rank[n] / len(self.out_neighbors[n]) )\n",
    "        # norm\n",
    "        page_rank /= page_rank.sum()     \n",
    "        \n",
    "        return page_rank\n",
    "\n",
    "    def simrank_algorithm(self,iter= 100,C = 0.5):\n",
    "        \n",
    "        simrank_matrix = np.eye( self.n )\n",
    "\n",
    "        for _ in range(iter):\n",
    "            # create new simrank matrix\n",
    "            new_simrank_matrix = np.zeros_like(simrank_matrix)\n",
    "            # update every node of a:b\n",
    "            for node_a in range(self.n):\n",
    "                for node_b in range(self.n):\n",
    "                    if node_a == node_b:\n",
    "                        continue\n",
    "                    new_simrank_matrix[node_a][node_b] = self.get_simrank_score( node_a,node_b,simrank_matrix,C=C )\n",
    "\n",
    "            simrank_matrix = new_simrank_matrix\n",
    "        return simrank_matrix\n",
    "        \n",
    "    def get_simrank_score( self , node_a , node_b , old_simrank_matrix , C=0.5):\n",
    "\n",
    "        if len(self.in_neighbors[node_a]) == 0 or len(self.in_neighbors[node_b]) == 0:\n",
    "            return 0.0\n",
    "\n",
    "        simrank_sum = 0\n",
    "        for a in self.in_neighbors[node_a]:\n",
    "            for b in self.in_neighbors[node_b]:\n",
    "                simrank_sum += old_simrank_matrix[a][b]\n",
    "\n",
    "        scale = C/(len( self.in_neighbors[node_a])*len(self.in_neighbors[node_b]) )\n",
    "        simrank_sum *= scale\n",
    "        \n",
    "        return simrank_sum"
   ]
  },
  {
   "cell_type": "code",
   "execution_count": 11,
   "metadata": {},
   "outputs": [
    {
     "name": "stdout",
     "output_type": "stream",
     "text": [
      "there's 4798 datas\n"
     ]
    }
   ],
   "source": [
    "#graph_data = load_graph_data(\"/home/q56104076/projects/NCKU-work/dataMining/hw3/dataset/hw3dataset/graph_2.txt\")\n",
    "\n",
    "graph_data = load_IBmdata(\"./dataset/ibm-5000.txt\")"
   ]
  },
  {
   "cell_type": "code",
   "execution_count": 12,
   "metadata": {},
   "outputs": [],
   "source": [
    "#graph_data"
   ]
  },
  {
   "cell_type": "code",
   "execution_count": 13,
   "metadata": {},
   "outputs": [],
   "source": [
    "g = Graph(graph_data)"
   ]
  },
  {
   "cell_type": "code",
   "execution_count": 14,
   "metadata": {},
   "outputs": [
    {
     "data": {
      "text/plain": [
       "array([[0.00000000e+000, 0.00000000e+000, 0.00000000e+000, ...,\n",
       "        0.00000000e+000, 0.00000000e+000, 0.00000000e+000],\n",
       "       [0.00000000e+000, 0.00000000e+000, 0.00000000e+000, ...,\n",
       "        0.00000000e+000, 0.00000000e+000, 0.00000000e+000],\n",
       "       [0.00000000e+000, 0.00000000e+000, 0.00000000e+000, ...,\n",
       "        9.08776058e-134, 9.07302289e-134, 0.00000000e+000],\n",
       "       ...,\n",
       "       [0.00000000e+000, 0.00000000e+000, 9.08776058e-134, ...,\n",
       "        0.00000000e+000, 7.18533284e-134, 0.00000000e+000],\n",
       "       [0.00000000e+000, 0.00000000e+000, 9.07302289e-134, ...,\n",
       "        7.18533284e-134, 0.00000000e+000, 0.00000000e+000],\n",
       "       [0.00000000e+000, 0.00000000e+000, 0.00000000e+000, ...,\n",
       "        0.00000000e+000, 0.00000000e+000, 0.00000000e+000]])"
      ]
     },
     "execution_count": 14,
     "metadata": {},
     "output_type": "execute_result"
    }
   ],
   "source": [
    "g.simrank_algorithm(50,0.9)"
   ]
  },
  {
   "cell_type": "code",
   "execution_count": 15,
   "metadata": {},
   "outputs": [
    {
     "data": {
      "text/plain": [
       "(array([0.2, 0.2, 0.2, 0.2, 0.2]), array([0.2, 0.2, 0.2, 0.2, 0.2]))"
      ]
     },
     "execution_count": 15,
     "metadata": {},
     "output_type": "execute_result"
    }
   ],
   "source": [
    "g.hits_algorithm(50)"
   ]
  }
 ],
 "metadata": {
  "interpreter": {
   "hash": "bc9aca527163a64f35853ea59b2f0f783e0ca5aaf51400ee245f68d6b9bfb088"
  },
  "kernelspec": {
   "display_name": "Python 3.8.10 64-bit ('hw3-fLRQMIK9': virtualenv)",
   "language": "python",
   "name": "python3"
  },
  "language_info": {
   "codemirror_mode": {
    "name": "ipython",
    "version": 3
   },
   "file_extension": ".py",
   "mimetype": "text/x-python",
   "name": "python",
   "nbconvert_exporter": "python",
   "pygments_lexer": "ipython3",
   "version": "3.8.10"
  },
  "orig_nbformat": 4
 },
 "nbformat": 4,
 "nbformat_minor": 2
}
